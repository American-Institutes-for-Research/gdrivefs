{
 "cells": [
  {
   "cell_type": "code",
   "execution_count": 1,
   "metadata": {},
   "outputs": [
    {
     "data": {
      "text/plain": [
       "<gdrivefs.GoogleDriveFileSystem at 0x10cd368d0>"
      ]
     },
     "execution_count": 1,
     "metadata": {},
     "output_type": "execute_result"
    }
   ],
   "source": [
    "import gdrivefs\n",
    "# use this the first time you run\n",
    "# token = 'browser'\n",
    "# use this on subsequent attempts\n",
    "token = 'cache'\n",
    "gdfs = gdrivefs.GoogleDriveFileSystem(token=token)\n",
    "gdfs"
   ]
  },
  {
   "cell_type": "code",
   "execution_count": 2,
   "metadata": {},
   "outputs": [
    {
     "data": {
      "text/plain": [
       "{'id': '1FQzXM2E28WF6fV7vy1K7HdxNV-w6z_Wx',\n",
       " 'name': 'zarr_tests',\n",
       " 'size': 0,\n",
       " 'type': 'directory'}"
      ]
     },
     "execution_count": 2,
     "metadata": {},
     "output_type": "execute_result"
    }
   ],
   "source": [
    "gdfs.info('/zarr_tests/')"
   ]
  },
  {
   "cell_type": "code",
   "execution_count": 3,
   "metadata": {},
   "outputs": [
    {
     "data": {
      "text/plain": [
       "[{'id': '1wg3qUtlD03_5TKktER40jS9eTdIpkjf2',\n",
       "  'name': '/zarr_tests/woa_t_an.zarr',\n",
       "  'size': 0,\n",
       "  'type': 'directory'}]"
      ]
     },
     "execution_count": 3,
     "metadata": {},
     "output_type": "execute_result"
    }
   ],
   "source": [
    "gdfs.ls(\"zarr_tests\", detail=True)"
   ]
  },
  {
   "cell_type": "code",
   "execution_count": 4,
   "metadata": {},
   "outputs": [
    {
     "data": {
      "text/plain": [
       "[{'id': '1gPoRFt-Cvj_4ztzBJTvLQU6WgF69QUSI',\n",
       "  'name': '/zarr_tests/woa_t_an.zarr/.zgroup',\n",
       "  'size': 24,\n",
       "  'type': 'file'},\n",
       " {'id': '163nNdnpbyxdka30gU_G_FF0x_ZDy7Zfg',\n",
       "  'name': '/zarr_tests/woa_t_an.zarr/.zmetadata',\n",
       "  'size': 7565,\n",
       "  'type': 'file'},\n",
       " {'id': '1omuFrd1bSY7UL-__jLgzQewfjo0l5Dtd',\n",
       "  'name': '/zarr_tests/woa_t_an.zarr/.zattrs',\n",
       "  'size': 2744,\n",
       "  'type': 'file'},\n",
       " {'id': '1T6-0lTjwLop8WflEQaBS5r1pS8ltnuVD',\n",
       "  'name': '/zarr_tests/woa_t_an.zarr/t_an',\n",
       "  'size': 0,\n",
       "  'type': 'directory'},\n",
       " {'id': '1USkcrgwX_Ekv2iA8WParuEB9dgXCqHzV',\n",
       "  'name': '/zarr_tests/woa_t_an.zarr/depth',\n",
       "  'size': 0,\n",
       "  'type': 'directory'},\n",
       " {'id': '1IIy-3VjML_9FKhFOJfbmUb-LU932Sm4F',\n",
       "  'name': '/zarr_tests/woa_t_an.zarr/lat',\n",
       "  'size': 0,\n",
       "  'type': 'directory'},\n",
       " {'id': '1d_AXYIjpx6s3LQCEtL-ffKI-x_YlGkyM',\n",
       "  'name': '/zarr_tests/woa_t_an.zarr/time',\n",
       "  'size': 0,\n",
       "  'type': 'directory'},\n",
       " {'id': '1PKjWmi5adY9cyBiT8v66f6YmG4Ec6qks',\n",
       "  'name': '/zarr_tests/woa_t_an.zarr/lon',\n",
       "  'size': 0,\n",
       "  'type': 'directory'}]"
      ]
     },
     "execution_count": 4,
     "metadata": {},
     "output_type": "execute_result"
    }
   ],
   "source": [
    "gdfs.ls(\"zarr_tests/woa_t_an.zarr/\", detail=True)"
   ]
  },
  {
   "cell_type": "code",
   "execution_count": 6,
   "metadata": {},
   "outputs": [
    {
     "data": {
      "text/plain": [
       "<fsspec.mapping.FSMap at 0x10d6b59e8>"
      ]
     },
     "execution_count": 6,
     "metadata": {},
     "output_type": "execute_result"
    }
   ],
   "source": [
    "mapper = gdfs.get_mapper('/zarr_tests/woa_t_an.zarr/')\n",
    "mapper"
   ]
  },
  {
   "cell_type": "code",
   "execution_count": 7,
   "metadata": {},
   "outputs": [],
   "source": [
    "import xarray as xr\n",
    "ds = xr.open_zarr(mapper, consolidated=True, decode_times=False, chunks=False)"
   ]
  },
  {
   "cell_type": "code",
   "execution_count": 8,
   "metadata": {},
   "outputs": [
    {
     "data": {
      "text/plain": [
       "<xarray.Dataset>\n",
       "Dimensions:  (depth: 102, lat: 180, lon: 360, time: 1)\n",
       "Coordinates:\n",
       "  * depth    (depth) float32 0.0 5.0 10.0 15.0 ... 5200.0 5300.0 5400.0 5500.0\n",
       "  * lat      (lat) float32 -89.5 -88.5 -87.5 -86.5 -85.5 ... 86.5 87.5 88.5 89.5\n",
       "  * lon      (lon) float32 -179.5 -178.5 -177.5 -176.5 ... 177.5 178.5 179.5\n",
       "  * time     (time) float32 726.0\n",
       "Data variables:\n",
       "    t_an     (time, depth, lat, lon) float32 ...\n",
       "Attributes:\n",
       "    Conventions:                     CF-1.6, ACDD-1.3\n",
       "    cdm_data_type:                   Grid\n",
       "    comment:                         global climatology as part of the World ...\n",
       "    contributor_name:                Ocean Climate Laboratory\n",
       "    contributor_role:                Calculation of climatologies\n",
       "    creator_email:                   NCEI.info@noaa.gov\n",
       "    creator_institution:             National Centers for Environmental Infor...\n",
       "    creator_name:                    Ocean Climate Laboratory\n",
       "    creator_type:                    group\n",
       "    creator_url:                     http://www.ncei.noaa.gov\n",
       "    date_created:                    2019-07-28 \n",
       "    date_modified:                   2019-07-28 \n",
       "    geospatial_lat_max:              90.0\n",
       "    geospatial_lat_min:              -90.0\n",
       "    geospatial_lat_resolution:       1.00 degrees\n",
       "    geospatial_lat_units:            degrees_north\n",
       "    geospatial_lon_max:              180.0\n",
       "    geospatial_lon_min:              -180.0\n",
       "    geospatial_lon_resolution:       1.00 degrees\n",
       "    geospatial_lon_units:            degrees_east\n",
       "    geospatial_vertical_max:         5500.0\n",
       "    geospatial_vertical_min:         0.0\n",
       "    geospatial_vertical_positive:    down\n",
       "    geospatial_vertical_resolution:  SPECIAL\n",
       "    geospatial_vertical_units:       m\n",
       "    id:                              woa18_A5B7_t00_01.nc\n",
       "    institution:                     National Centers for Environmental Infor...\n",
       "    keywords:                        Oceans< Ocean Temperature > Water Temper...\n",
       "    keywords_vocabulary:             ISO 19115\n",
       "    license:                         These data are openly available to the p...\n",
       "    metadata_link:                   https://www.nodc.noaa.gov/OC5/woa18/\n",
       "    naming_authority:                gov.noaa.ncei\n",
       "    nodc_template_version:           NODC_NetCDF_Grid_Template_v2.0\n",
       "    processing_level:                processed\n",
       "    project:                         World Ocean Atlas Project\n",
       "    publisher_email:                 NCEI.info@noaa.gov\n",
       "    publisher_institution:           National Centers for Environmental Infor...\n",
       "    publisher_name:                  National Centers for Environmental Infor...\n",
       "    publisher_type:                  institution\n",
       "    publisher_url:                   http://www.ncei.noaa.gov/\n",
       "    references:                      Locarnini, R. A., A. V. Mishonov, O. K. ...\n",
       "    sea_name:                        World-Wide Distribution\n",
       "    standard_name_vocabulary:        CF Standard Name Table v49\n",
       "    summary:                         Climatological mean temperature for the ...\n",
       "    time_coverage_duration:          P13Y\n",
       "    time_coverage_end:               2017-12-31\n",
       "    time_coverage_resolution:        P01Y\n",
       "    time_coverage_start:             2005-01-01\n",
       "    title:                           World Ocean Atlas 2018 : sea_water_tempe..."
      ]
     },
     "execution_count": 8,
     "metadata": {},
     "output_type": "execute_result"
    }
   ],
   "source": [
    "ds"
   ]
  },
  {
   "cell_type": "code",
   "execution_count": 9,
   "metadata": {},
   "outputs": [
    {
     "name": "stdout",
     "output_type": "stream",
     "text": [
      "CPU times: user 208 ms, sys: 178 ms, total: 385 ms\n",
      "Wall time: 26.9 s\n"
     ]
    }
   ],
   "source": [
    "%time dsl = ds.compute()"
   ]
  },
  {
   "cell_type": "code",
   "execution_count": 10,
   "metadata": {},
   "outputs": [
    {
     "data": {
      "text/plain": [
       "26.440972"
      ]
     },
     "execution_count": 10,
     "metadata": {},
     "output_type": "execute_result"
    }
   ],
   "source": [
    "dsl.nbytes / 1e6"
   ]
  },
  {
   "cell_type": "code",
   "execution_count": null,
   "metadata": {},
   "outputs": [],
   "source": []
  }
 ],
 "metadata": {
  "kernelspec": {
   "display_name": "Python [conda env:gdrive-fsspec]",
   "language": "python",
   "name": "conda-env-gdrive-fsspec-py"
  },
  "language_info": {
   "codemirror_mode": {
    "name": "ipython",
    "version": 3
   },
   "file_extension": ".py",
   "mimetype": "text/x-python",
   "name": "python",
   "nbconvert_exporter": "python",
   "pygments_lexer": "ipython3",
   "version": "3.7.3"
  }
 },
 "nbformat": 4,
 "nbformat_minor": 4
}
